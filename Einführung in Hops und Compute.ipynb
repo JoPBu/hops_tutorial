{
 "cells": [
  {
   "cell_type": "markdown",
   "metadata": {},
   "source": [
    "# Compute und Hops - Ein kurzer Überblick"
   ]
  },
  {
   "cell_type": "markdown",
   "metadata": {},
   "source": [
    "## Themen:\n",
    "- “Das kopflose Rhino”: Der Compute-Server\n",
    "- “Hopfen”: Verwendung und Möglichkeiten\n",
    "- “Hops als Schnittstelle zur Außenwelt”: Der Python-Server\n",
    "- “Von außen nach Innen”: Compute und Grasshopper\n",
    "\n",
    "Leider sind die Beispiele und Tutorials aktuell nicht wirklich gepflegt und viele Links funktionieren nicht..."
   ]
  },
  {
   "cell_type": "markdown",
   "metadata": {},
   "source": [
    "***"
   ]
  },
  {
   "cell_type": "markdown",
   "metadata": {},
   "source": [
    "## Voraussetzungen\n",
    "- Python > 3.9\n",
    "- IDE, z.B. Visual Studio Code\n",
    "- Rhino > 3.19.20\n",
    "- Idealerweise eine virtuelle Entwicklungsumgebung (z.B. Anaconda)\n",
    "\n",
    "Alles weitere gehen wir gemeinsam durch."
   ]
  },
  {
   "cell_type": "markdown",
   "metadata": {},
   "source": [
    "***"
   ]
  },
  {
   "cell_type": "markdown",
   "metadata": {},
   "source": [
    "Für einige Dinge wird nicht zwangsweise der Compute- Server benötigt.\n",
    "Es steht ebenfalls die __[OpenNURBS](https://www.rhino3d.com/de/opennurbs/)- Biliothek zur Verfügung. \n",
    "Wir verwenden Sie für die Definition von Variablen, zum Lesen und Schreiben von .3dm Dateien und für einfache Geometrie- Operationen"
   ]
  },
  {
   "cell_type": "code",
   "execution_count": 13,
   "metadata": {},
   "outputs": [],
   "source": [
    "import rhino3dm"
   ]
  },
  {
   "cell_type": "markdown",
   "metadata": {},
   "source": [
    "***"
   ]
  },
  {
   "cell_type": "markdown",
   "metadata": {},
   "source": [
    "\n",
    "\n",
    "## Rhino Compute\n",
    "\n",
    "### Was ist Compute?\n",
    "- Im Grunde ein Rhino ohne GUI \n",
    "- Eine auf einem Webserver laufende Instanz von Rhino, über die man mittels einer REST-API kommunizieren kann.\n",
    "- Rhino Compute bittet den gleichen Funktionsumfang, wie die \"nomale\" Rhino Version. --> Es können dementsprechend auch Grasshopper- Skripte ausgeführt werden.\n",
    "\n",
    "#### Vorteile:\n",
    "- Open Source!\n",
    "- Ermöglicht parallele Ausführung von Befehlen.\n",
    "- Berechnung kann auf einem externen Server ausgeführt werden.\n",
    "- Kommunikation mit dem Server mittels Python, JavaScript oder .NET --> Damit bilden Rhino und Grasshopper nur noch ein Teilprogramm des Gesamtsystems.\n",
    "- Rhino kann sich damit nun auf seine Stärken konzentrieren, die Verarbeitung von Geometrien.\n",
    "\n",
    "#### Installation:\n",
    "__[Installations Anleitung](https://developer.rhino3d.com/guides/compute/development/)__\n",
    "\n",
    "__[GitHub](https://github.com/mcneel/compute.rhino3d)__\n",
    "\n",
    "1. Klonen des Repos \n",
    "2.  src\\compute.sln in Visual Studio öffnen und compilieren als DEBUG.\n",
    "3. Sicherstellen, dass compute.geometry das Start- Projekt ist.\n",
    "4. Ausführen der compute.geometry.exe\n",
    "5. Über __[http://localhost:8081/version](http://localhost:8081/version)__ prüfen, ob der Server läuft.\n",
    "\n"
   ]
  },
  {
   "cell_type": "code",
   "execution_count": 14,
   "metadata": {},
   "outputs": [],
   "source": [
    "import compute_rhino3d"
   ]
  },
  {
   "cell_type": "markdown",
   "metadata": {},
   "source": [
    "***"
   ]
  },
  {
   "cell_type": "markdown",
   "metadata": {},
   "source": [
    "Tipp: Man achte auf den Unterschied zwischen \n",
    "<br>\n",
    "`import compute_rhino3d`    \n",
    "und    \n",
    "`pip install compute-rhino3d`"
   ]
  },
  {
   "cell_type": "markdown",
   "metadata": {},
   "source": [
    "***"
   ]
  },
  {
   "cell_type": "markdown",
   "metadata": {},
   "source": [
    "##### Ein kleines Anwendungsbeispiel:\n",
    "Imports:"
   ]
  },
  {
   "cell_type": "code",
   "execution_count": 15,
   "metadata": {},
   "outputs": [],
   "source": [
    "from rhino3dm import *\n",
    "import tkinter as Tkinter\n",
    "import compute_rhino3d.Mesh\n",
    "import compute_rhino3d.Util\n",
    "import requests\n",
    "import json\n",
    "import time"
   ]
  },
  {
   "cell_type": "markdown",
   "metadata": {},
   "source": [
    "Verbindung zum Server definieren:"
   ]
  },
  {
   "cell_type": "code",
   "execution_count": 16,
   "metadata": {},
   "outputs": [],
   "source": [
    "compute_rhino3d.Util.url = \"http://localhost:5000/\"\n",
    "#compute_rhino3d.Util.apiKey = \"\""
   ]
  },
  {
   "cell_type": "markdown",
   "metadata": {},
   "source": [
    "Verbindung prüfen:"
   ]
  },
  {
   "cell_type": "code",
   "execution_count": null,
   "metadata": {},
   "outputs": [],
   "source": [
    "try: \n",
    "    version_test = requests.get(compute_rhino3d.Util.url + '/version')\n",
    "    version = json.loads(version_test.content)\n",
    "    print(\"[INFO] Successfull: Server-version: \", version)\n",
    "except:\n",
    "    print(\"[ERROR] Can't reach the server!\")\n"
   ]
  },
  {
   "cell_type": "markdown",
   "metadata": {},
   "source": [
    "Verwendung der OpenNURBS- Bibliothek:"
   ]
  },
  {
   "cell_type": "code",
   "execution_count": 18,
   "metadata": {},
   "outputs": [],
   "source": [
    "center = Point3d(250, 250, 0)\n",
    "sphere = Sphere(center, 100)\n",
    "brep = sphere.ToBrep()"
   ]
  },
  {
   "cell_type": "markdown",
   "metadata": {},
   "source": [
    "Folgender Befehl steht nicht in der Bibliothek zur Verfügung, also verwenden wir Rhino-Compute:"
   ]
  },
  {
   "cell_type": "code",
   "execution_count": 19,
   "metadata": {},
   "outputs": [],
   "source": [
    "d = compute_rhino3d.Mesh.CreateFromBrep(brep)\n",
    "mesh = (d[0])"
   ]
  },
  {
   "cell_type": "markdown",
   "metadata": {},
   "source": [
    "Anzeigen des Ergebnisses:"
   ]
  },
  {
   "cell_type": "code",
   "execution_count": 21,
   "metadata": {},
   "outputs": [],
   "source": [
    "top = Tkinter.Tk()\n",
    "\n",
    "w = Tkinter.Canvas(top, width=500, height=500)\n",
    "w.pack()\n",
    "\n",
    "v = Vector3d(1,1,0)\n",
    "for x in range(100):\n",
    "    top.update()\n",
    "    time.sleep(0.001)\n",
    "    w.delete(\"all\")\n",
    "    mesh.Rotate(.1, v, center)\n",
    "    verts = mesh.Vertices\n",
    "    faces = mesh.Faces\n",
    "    for i in range(len(faces)):\n",
    "        face = faces[i]\n",
    "        pts = [verts[face[0]], verts[face[1]], verts[face[2]], verts[face[3]]]\n",
    "        w.create_line(pts[0].X, pts[0].Y, pts[1].X, pts[1].Y)\n",
    "        w.create_line(pts[1].X, pts[1].Y, pts[2].X, pts[2].Y)\n",
    "        w.create_line(pts[2].X, pts[2].Y, pts[3].X, pts[3].Y)\n",
    "        w.create_line(pts[3].X, pts[3].Y, pts[0].X, pts[0].Y)\n",
    "\n",
    "top.mainloop()"
   ]
  },
  {
   "cell_type": "markdown",
   "metadata": {},
   "source": [
    "Soweit so gut. Verwenden tut man es so eher selten (meiner Meinung nach), da die Entwicklung sehr aufwendig ist.\n",
    "<br>\n",
    "Deshalb machen wir einen kleinen Sprung:"
   ]
  },
  {
   "cell_type": "markdown",
   "metadata": {},
   "source": [
    "***"
   ]
  },
  {
   "cell_type": "markdown",
   "metadata": {},
   "source": [
    "## Hops\n",
    "### Was ist Hops und was kann es?\n",
    "- Plugin für Grasshopper.\n",
    "- Auf den ersten Blick ähnlich zu den Clustern.\n",
    "- Allerdings ist es mehr eine Schnittstelle.\n",
    "- Besteht aus dem Hops-Component selbst und einigen In- und Outputs.\n",
    "- Teilen von Definitionen über verschiedene Projekte hinweg.\n",
    "- Parallele und Asynchrone Berechnung. Der Solver wird nicht mehr geblockt.\n",
    "- Rekursionen sind möglich!\n",
    "\n",
    "### Installation\n",
    "Über den Package-Manager\n",
    "\n",
    "Weiter geht es in Grasshopper"
   ]
  },
  {
   "cell_type": "markdown",
   "metadata": {},
   "source": [
    "***"
   ]
  },
  {
   "cell_type": "markdown",
   "metadata": {},
   "source": [
    "## Das Hops Plugin als Schnittstelle - Jetzt kommt der spannende Teil\n",
    "Dies kann auf zwei unterschiedliche Arten erfolgen:\n",
    "1) Ein eigenes Plugin definieren und Parameter übergeben/ zurückgeben --> Teilautomatisierung\n",
    "2) Grasshopper Definitionen direkt auf dem Compute- Server ausführen --> Vollständige Automatisierung\n",
    "\n",
    "Samples: __[GitHub](https://github.com/mcneel/rhino-developer-samples/tree/7/compute)__"
   ]
  },
  {
   "cell_type": "markdown",
   "metadata": {},
   "source": [
    "### Der Python- Server"
   ]
  },
  {
   "cell_type": "markdown",
   "metadata": {},
   "source": [
    "Imports"
   ]
  },
  {
   "cell_type": "code",
   "execution_count": 1,
   "metadata": {},
   "outputs": [],
   "source": [
    "from flask import Flask\n",
    "import ghhops_server as hs\n",
    "import rhino3dm"
   ]
  },
  {
   "cell_type": "markdown",
   "metadata": {},
   "source": [
    "Hops als Middleware registrieren"
   ]
  },
  {
   "cell_type": "code",
   "execution_count": 2,
   "metadata": {},
   "outputs": [],
   "source": [
    "app = Flask(__name__)\n",
    "hops: hs.HopsFlask = hs.Hops(app)"
   ]
  },
  {
   "cell_type": "markdown",
   "metadata": {},
   "source": [
    "Definition des Components und direkt im Anschluss die auszuführende Funktion."
   ]
  },
  {
   "cell_type": "code",
   "execution_count": 17,
   "metadata": {},
   "outputs": [],
   "source": [
    "@hops.component(\n",
    "    \"/add\",\n",
    "    name=\"Add\",\n",
    "    nickname=\"Add\",\n",
    "    description=\"Add numbers with CPython\",\n",
    "    icon = \"C:\\\\Users\\\\Johannes\\\\Documents\\\\GitHub\\\\hops_tutorial\\\\recources\\\\icon_add.png\",\n",
    "    inputs=[\n",
    "        hs.HopsNumber(\"A\", \"A\", \"First number\"),\n",
    "        hs.HopsNumber(\"B\", \"B\", \"Second number\"),\n",
    "    ],\n",
    "    outputs=[hs.HopsNumber(\"Sum\", \"S\", \"A + B\")]\n",
    ")\n",
    "def add(a: float, b: float):\n",
    "    return a + b"
   ]
  },
  {
   "cell_type": "markdown",
   "metadata": {},
   "source": [
    "Es können auch mehrere Funktionen innerhalb einer Definition erstellt werden:\n",
    "Und ein Tree-Access muss extra definiert werden!"
   ]
  },
  {
   "cell_type": "code",
   "execution_count": null,
   "metadata": {},
   "outputs": [],
   "source": [
    "@hops.component(\n",
    "    \"/pointat\",\n",
    "    name=\"PointAt\",\n",
    "    nickname=\"PtAt\",\n",
    "    description=\"Get point along curve\",\n",
    "    inputs=[\n",
    "        hs.HopsCurve(\"Curve\", \"C\", \"Curve to evaluate\"),\n",
    "        hs.HopsNumber(\"t\", \"t\", \"Parameter on Curve to evaluate\", hs.HopsParamAccess.TREE)\n",
    "    ],\n",
    "    outputs=[hs.HopsPoint(\"P\", \"P\", \"Point on curve at t\")]\n",
    ")\n",
    "def pointat(curve: rhino3dm.Curve, t=0.0):\n",
    "    return curve.PointAt(t)"
   ]
  },
  {
   "cell_type": "markdown",
   "metadata": {},
   "source": [
    "Starten des Flask- Servers"
   ]
  },
  {
   "cell_type": "code",
   "execution_count": null,
   "metadata": {},
   "outputs": [],
   "source": [
    "if __name__ == \"__main__\":\n",
    "    app.run(debug=True)"
   ]
  },
  {
   "cell_type": "markdown",
   "metadata": {},
   "source": [
    "Man kann Falsk natürlich auch mit einem eigenen Compute-Server verbinden:"
   ]
  },
  {
   "cell_type": "code",
   "execution_count": null,
   "metadata": {},
   "outputs": [],
   "source": [
    "# Zusätzliche Imports:\n",
    "import compute_rhino3d as rc\n",
    "\n",
    "# Set the compute server connection\n",
    "compute_url = \"http://localhost:5000/\"\n",
    "rc.Util.url = compute_url"
   ]
  },
  {
   "cell_type": "markdown",
   "metadata": {},
   "source": [
    "***"
   ]
  },
  {
   "cell_type": "markdown",
   "metadata": {},
   "source": [
    "## Grasshopper Definitionen mittels Compute lösen\n",
    "- Verarbeitung vollständig serverseitig.\n",
    "- Volle automatisierung\n",
    "- Kein Grasshopper mehr notwendig zum ausführen."
   ]
  },
  {
   "cell_type": "code",
   "execution_count": null,
   "metadata": {},
   "outputs": [],
   "source": [
    "# Imports:\n",
    "import requests\n",
    "import json\n",
    "import os\n",
    "import sys\n",
    "import compute_rhino3d.Util as rcutil\n",
    "import compute_rhino3d.Grasshopper as rcgh"
   ]
  },
  {
   "cell_type": "markdown",
   "metadata": {},
   "source": [
    "Wie gehabt, Verbindung aufbauen und testen:"
   ]
  },
  {
   "cell_type": "code",
   "execution_count": null,
   "metadata": {},
   "outputs": [],
   "source": [
    "# Set the compute server connection\n",
    "compute_url = \"http://localhost:5000/\"\n",
    "post_url = compute_url + \"grasshopper\"\n",
    "\n",
    "dir_path = os.path.dirname(os.path.realpath(__file__))\n",
    "ghDefinition_path = os.path.join(dir_path, 'ghCompute.gh')\n",
    "\n",
    "rcutil.url = compute_url\n",
    "rcutil.authToken = \"\" # no auth token required as it is a local service\n",
    "\n",
    "# Test the compute server connection, should return version object\n",
    "print(\"T\")\n",
    "try: \n",
    "    version_test = requests.get(compute_url + '/version')\n",
    "    print(\"[INFO] Compute server connection established\")\n",
    "except:\n",
    "    print(\"[ERROR] Can not establish a connection to the compute server!\")\n",
    "    sys.exit(1)"
   ]
  },
  {
   "cell_type": "markdown",
   "metadata": {},
   "source": [
    "Nun müssen die Inputs definiert werden:"
   ]
  },
  {
   "cell_type": "code",
   "execution_count": null,
   "metadata": {},
   "outputs": [],
   "source": [
    "inputTree1 = rcgh.DataTree(\"RH_IN:number1\")\n",
    "inputTree2 = rcgh.DataTree(\"number2\")"
   ]
  },
  {
   "cell_type": "markdown",
   "metadata": {},
   "source": [
    "Variablen mit Infos füllen:\n",
    "Folgendes ist hierbei zu beachten:\n",
    "\n",
    "Der Branch wird als Liste übergeben. Aus [0,1,0] wird später {0;1;0}.\n",
    "Anschließend wird für jeden Branch eine Liste an Items übergeben."
   ]
  },
  {
   "cell_type": "code",
   "execution_count": null,
   "metadata": {},
   "outputs": [],
   "source": [
    "#Filling the trees:\n",
    "for i in range(1,6):   #1,2,3,4,5 \n",
    "    inputTree1.Append([i], [i]) #Beides müssen listen sein!\n",
    "\n",
    "inputTree2.Append([0], [3])\n",
    "\n",
    "# Merge all inputs:\n",
    "trees = [inputTree1, inputTree2]"
   ]
  },
  {
   "cell_type": "markdown",
   "metadata": {},
   "source": [
    "Grasshopper Definition ausführen:"
   ]
  },
  {
   "cell_type": "code",
   "execution_count": null,
   "metadata": {},
   "outputs": [],
   "source": [
    "output = rcgh.EvaluateDefinition(ghDefinition_path, trees)"
   ]
  },
  {
   "cell_type": "markdown",
   "metadata": {},
   "source": [
    "Das Ergebnis kommt im JSON- Format zurück und kann nach bekannten Methoden verarbeitet werden"
   ]
  },
  {
   "cell_type": "code",
   "execution_count": null,
   "metadata": {},
   "outputs": [],
   "source": [
    "print(json.dumps(output,indent=4))"
   ]
  }
 ],
 "metadata": {
  "kernelspec": {
   "display_name": "Python 3.10.4 ('ghhops')",
   "language": "python",
   "name": "python3"
  },
  "language_info": {
   "codemirror_mode": {
    "name": "ipython",
    "version": 3
   },
   "file_extension": ".py",
   "mimetype": "text/x-python",
   "name": "python",
   "nbconvert_exporter": "python",
   "pygments_lexer": "ipython3",
   "version": "3.10.4"
  },
  "orig_nbformat": 4,
  "vscode": {
   "interpreter": {
    "hash": "bd1d3c3c5246588bf1321235108a2400d532e7af70075bec11878c0c7a24f47a"
   }
  }
 },
 "nbformat": 4,
 "nbformat_minor": 2
}
